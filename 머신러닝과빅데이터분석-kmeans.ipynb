{
 "cells": [
  {
   "cell_type": "code",
   "execution_count": 1,
   "metadata": {},
   "outputs": [],
   "source": [
    "import pandas as pd\n",
    "pd.set_option('display.max_rows',None)\n",
    "pd.set_option('display.max_columns',None)\n",
    "\n",
    "pd_DataSet=pd.read_csv(\"./kmeans_Sample.csv\")"
   ]
  },
  {
   "cell_type": "code",
   "execution_count": 2,
   "metadata": {},
   "outputs": [
    {
     "name": "stdout",
     "output_type": "stream",
     "text": [
      "           X1        Y1\n",
      "0    0.276181 -2.217047\n",
      "1    7.927368 -9.761527\n",
      "2    8.491428 -2.549749\n",
      "3  -11.537102  2.434883\n",
      "4    4.292259 -8.992204\n",
      "5    0.911433 -2.638517\n",
      "6    7.298851 -9.905640\n",
      "7    0.516622 -0.751186\n",
      "8   -7.731942  1.506037\n",
      "9    1.208242 -1.893695\n",
      "10   7.730467 -4.729017\n",
      "11  -7.180708  1.104793\n",
      "12   1.068685  0.053079\n",
      "13  -9.031283  1.372868\n",
      "14   7.385757 -1.023796\n",
      "15  -8.800183  0.828214\n",
      "16   8.212012 -1.547814\n",
      "17   8.215974 -2.286723\n",
      "18  -6.476685  3.000695\n",
      "19   8.714451 -2.417305\n",
      "20   6.388393 -9.256914\n",
      "21   0.512176 -2.072417\n",
      "22   7.270590 -4.842257\n",
      "23   7.481698 -2.964036\n",
      "24  -7.394465  1.591579\n",
      "25   5.456445 -8.999001\n",
      "26   6.600873 -8.071447\n",
      "27  -0.870706 -0.049747\n",
      "28   0.408690 -3.110244\n",
      "29   8.984267 -4.874497\n",
      "30  -7.189609  1.428666\n",
      "31   1.164901 -2.428817\n",
      "32   5.883975 -8.372845\n",
      "33   5.730058 -4.194811\n",
      "34  -8.400123  1.527130\n",
      "35   6.262215 -8.439258\n",
      "36   1.009911 -1.997228\n",
      "37  -0.853581 -4.330782\n",
      "38   7.933331 -3.515532\n",
      "39   0.272688 -0.357748\n",
      "40  -6.446285  2.285749\n",
      "41  -8.331312  3.263979\n",
      "42  -7.795315  1.681454\n",
      "43   6.405001 -7.503225\n",
      "44  -0.223539 -1.485138\n",
      "45  10.488484 -2.758582\n",
      "46  -7.203565  1.453146\n",
      "47  -7.694179  0.268421\n",
      "48   5.947095 -9.053538\n",
      "49   7.893600 -7.416551\n",
      "50   7.375784 -8.724170\n",
      "51   6.850868 -9.924225\n",
      "52   8.329325 -8.471914\n",
      "53   7.971644 -3.382361\n",
      "54   7.521321 -2.122666\n",
      "55  -7.756069  2.171308\n",
      "56   0.536255 -2.192340\n",
      "57   7.295732 -4.393924\n",
      "58   9.075684 -4.217905\n",
      "59   1.712041 -0.829748\n",
      "60   9.421693 -2.647699\n",
      "61   1.378978 -2.117270\n",
      "62  -8.510400  1.467305\n",
      "63  -0.626228 -0.801039\n",
      "64   6.947528 -9.757944\n",
      "65  -5.507832  1.587718\n",
      "66   7.676196 -2.826204\n",
      "67  -9.048218  2.792694\n",
      "68   0.670445  0.406909\n",
      "69   8.681857 -4.536835\n",
      "70  -8.161358  1.756066\n",
      "71   7.391695 -3.126693\n",
      "72   9.496494 -3.790297\n",
      "73   6.541184 -9.848325\n",
      "74  -8.292110  1.759082\n",
      "75   6.500727 -3.824036\n",
      "76   0.092080 -0.571341\n",
      "77  -8.842286  1.786914\n",
      "78  -8.831594  1.690414\n",
      "79   7.077051 -2.404794\n",
      "80   6.952924 -8.226243\n",
      "81   4.510561 -9.305970\n",
      "82  -0.349082 -0.532565\n",
      "83  -7.906484  2.095210\n",
      "84   1.113242 -0.694994\n",
      "85  -7.491496  0.202122\n",
      "86   6.455191 -9.463567\n",
      "87   9.242238 -3.880031\n",
      "88   6.778113 -9.809405\n",
      "89   4.298108 -8.414619\n",
      "90  -7.559987  1.952901\n",
      "91   0.874864 -2.051392\n",
      "92   1.084631 -0.553542\n",
      "93   7.968331 -3.231253\n",
      "94   1.288840 -0.662518\n",
      "95   1.432822 -3.001946\n"
     ]
    }
   ],
   "source": [
    "DF=pd.DataFrame(pd_DataSet)\n",
    "New_DF=DF.dropna(how='any')\n",
    "print(New_DF)"
   ]
  },
  {
   "cell_type": "code",
   "execution_count": 4,
   "metadata": {},
   "outputs": [],
   "source": [
    "x=New_DF['X1']\n",
    "y=New_DF['Y1']"
   ]
  },
  {
   "cell_type": "code",
   "execution_count": 5,
   "metadata": {},
   "outputs": [
    {
     "data": {
      "image/png": "[encoded data removed]",
      "text/plain": [
       "<Figure size 640x480 with 1 Axes>"
      ]
     },
     "metadata": {},
     "output_type": "display_data"
    }
   ],
   "source": [
    "import matplotlib.pyplot as plt\n",
    "plt.scatter(x,y)\n",
    "plt.show()"
   ]
  },
  {
   "cell_type": "code",
   "execution_count": 3,
   "metadata": {},
   "outputs": [],
   "source": [
    "import sklearn.cluster as skc\n",
    "#군집분석을 할꺼야"
   ]
  },
  {
   "cell_type": "code",
   "execution_count": 7,
   "metadata": {},
   "outputs": [
    {
     "name": "stderr",
     "output_type": "stream",
     "text": [
      "c:\\Users\\minjung.bae\\AppData\\Local\\Programs\\Python\\Python38\\lib\\site-packages\\sklearn\\cluster\\_kmeans.py:870: FutureWarning: The default value of `n_init` will change from 10 to 'auto' in 1.4. Set the value of `n_init` explicitly to suppress the warning\n",
      "  warnings.warn(\n"
     ]
    },
    {
     "data": {
      "text/html": [
       "<style>#sk-container-id-1 {color: black;background-color: white;}#sk-container-id-1 pre{padding: 0;}#sk-container-id-1 div.sk-toggleable {background-color: white;}#sk-container-id-1 label.sk-toggleable__label {cursor: pointer;display: block;width: 100%;margin-bottom: 0;padding: 0.3em;box-sizing: border-box;text-align: center;}#sk-container-id-1 label.sk-toggleable__label-arrow:before {content: \"▸\";float: left;margin-right: 0.25em;color: #696969;}#sk-container-id-1 label.sk-toggleable__label-arrow:hover:before {color: black;}#sk-container-id-1 div.sk-estimator:hover label.sk-toggleable__label-arrow:before {color: black;}#sk-container-id-1 div.sk-toggleable__content {max-height: 0;max-width: 0;overflow: hidden;text-align: left;background-color: #f0f8ff;}#sk-container-id-1 div.sk-toggleable__content pre {margin: 0.2em;color: black;border-radius: 0.25em;background-color: #f0f8ff;}#sk-container-id-1 input.sk-toggleable__control:checked~div.sk-toggleable__content {max-height: 200px;max-width: 100%;overflow: auto;}#sk-container-id-1 input.sk-toggleable__control:checked~label.sk-toggleable__label-arrow:before {content: \"▾\";}#sk-container-id-1 div.sk-estimator input.sk-toggleable__control:checked~label.sk-toggleable__label {background-color: #d4ebff;}#sk-container-id-1 div.sk-label input.sk-toggleable__control:checked~label.sk-toggleable__label {background-color: #d4ebff;}#sk-container-id-1 input.sk-hidden--visually {border: 0;clip: rect(1px 1px 1px 1px);clip: rect(1px, 1px, 1px, 1px);height: 1px;margin: -1px;overflow: hidden;padding: 0;position: absolute;width: 1px;}#sk-container-id-1 div.sk-estimator {font-family: monospace;background-color: #f0f8ff;border: 1px dotted black;border-radius: 0.25em;box-sizing: border-box;margin-bottom: 0.5em;}#sk-container-id-1 div.sk-estimator:hover {background-color: #d4ebff;}#sk-container-id-1 div.sk-parallel-item::after {content: \"\";width: 100%;border-bottom: 1px solid gray;flex-grow: 1;}#sk-container-id-1 div.sk-label:hover label.sk-toggleable__label {background-color: #d4ebff;}#sk-container-id-1 div.sk-serial::before {content: \"\";position: absolute;border-left: 1px solid gray;box-sizing: border-box;top: 0;bottom: 0;left: 50%;z-index: 0;}#sk-container-id-1 div.sk-serial {display: flex;flex-direction: column;align-items: center;background-color: white;padding-right: 0.2em;padding-left: 0.2em;position: relative;}#sk-container-id-1 div.sk-item {position: relative;z-index: 1;}#sk-container-id-1 div.sk-parallel {display: flex;align-items: stretch;justify-content: center;background-color: white;position: relative;}#sk-container-id-1 div.sk-item::before, #sk-container-id-1 div.sk-parallel-item::before {content: \"\";position: absolute;border-left: 1px solid gray;box-sizing: border-box;top: 0;bottom: 0;left: 50%;z-index: -1;}#sk-container-id-1 div.sk-parallel-item {display: flex;flex-direction: column;z-index: 1;position: relative;background-color: white;}#sk-container-id-1 div.sk-parallel-item:first-child::after {align-self: flex-end;width: 50%;}#sk-container-id-1 div.sk-parallel-item:last-child::after {align-self: flex-start;width: 50%;}#sk-container-id-1 div.sk-parallel-item:only-child::after {width: 0;}#sk-container-id-1 div.sk-dashed-wrapped {border: 1px dashed gray;margin: 0 0.4em 0.5em 0.4em;box-sizing: border-box;padding-bottom: 0.4em;background-color: white;}#sk-container-id-1 div.sk-label label {font-family: monospace;font-weight: bold;display: inline-block;line-height: 1.2em;}#sk-container-id-1 div.sk-label-container {text-align: center;}#sk-container-id-1 div.sk-container {/* jupyter's `normalize.less` sets `[hidden] { display: none; }` but bootstrap.min.css set `[hidden] { display: none !important; }` so we also need the `!important` here to be able to override the default hidden behavior on the sphinx rendered scikit-learn.org. See: https://github.com/scikit-learn/scikit-learn/issues/21755 */display: inline-block !important;position: relative;}#sk-container-id-1 div.sk-text-repr-fallback {display: none;}</style><div id=\"sk-container-id-1\" class=\"sk-top-container\"><div class=\"sk-text-repr-fallback\"><pre>KMeans(n_clusters=4)</pre><b>In a Jupyter environment, please rerun this cell to show the HTML representation or trust the notebook. <br />On GitHub, the HTML representation is unable to render, please try loading this page with nbviewer.org.</b></div><div class=\"sk-container\" hidden><div class=\"sk-item\"><div class=\"sk-estimator sk-toggleable\"><input class=\"sk-toggleable__control sk-hidden--visually\" id=\"sk-estimator-id-1\" type=\"checkbox\" checked><label for=\"sk-estimator-id-1\" class=\"sk-toggleable__label sk-toggleable__label-arrow\">KMeans</label><div class=\"sk-toggleable__content\"><pre>KMeans(n_clusters=4)</pre></div></div></div></div></div>"
      ],
      "text/plain": [
       "KMeans(n_clusters=4)"
      ]
     },
     "execution_count": 7,
     "metadata": {},
     "output_type": "execute_result"
    }
   ],
   "source": [
    "#모델선언\n",
    "k_means_Model=skc.KMeans(n_clusters=4)\n",
    "#클러스터를 4개로 할꺼야  산점도를 그려본 이유가 있다. \n",
    "k_means_Model.fit(New_DF)\n",
    "#여기서 다른 처리와 다른점은 여기는 train과 test set으로 나누어 학습하지 않았다.\n",
    "#구지 트레이닝과 테스트 셋을 나누지 않아도\n",
    "#반복수행이 끝임없이 하면서 분류 처리 하기 때문에 트레이닝과 테스트 셋 나누지 않는다."
   ]
  },
  {
   "cell_type": "code",
   "execution_count": 8,
   "metadata": {},
   "outputs": [],
   "source": [
    "Re=k_means_Model.predict(New_DF)"
   ]
  },
  {
   "cell_type": "code",
   "execution_count": 9,
   "metadata": {},
   "outputs": [],
   "source": [
    "import matplotlib.pyplot as plt"
   ]
  },
  {
   "cell_type": "code",
   "execution_count": 10,
   "metadata": {},
   "outputs": [],
   "source": [
    "x=New_DF['X1']\n",
    "y=New_DF['Y1']"
   ]
  },
  {
   "cell_type": "code",
   "execution_count": 13,
   "metadata": {},
   "outputs": [
    {
     "data": {
      "image/png": "[encoded data removed]",
      "text/plain": [
       "<Figure size 640x480 with 1 Axes>"
      ]
     },
     "metadata": {},
     "output_type": "display_data"
    }
   ],
   "source": [
    "plt.scatter(x,y,c=Re)\n",
    "#예측된 산점도를 Re 값에 따라 그려라\n",
    "plt.show()\n",
    "#가시적으로 정확하게 4개 로 구분해서 나누어 졌다.\n"
   ]
  },
  {
   "cell_type": "code",
   "execution_count": 14,
   "metadata": {},
   "outputs": [],
   "source": [
    "#실루엣 스코어는 0에서 1사이의 값을 갖게 되는데 1에 가까울수록 군집화가 잘 진행된것\n",
    "#군집의 개수로 군집내 중앙값의 거리 계산\n",
    "#군집별도 나누어진 다른 군집과의 거리도 계산해야 정확도가 높다 할 수 있다. \n",
    "#군집내의 거리는 가깝과 다른 군집과의 거리가 멀면 잘 되었다.\n",
    "#이것이 실루엣 스코어 R스퀘어"
   ]
  },
  {
   "cell_type": "code",
   "execution_count": 15,
   "metadata": {},
   "outputs": [],
   "source": [
    "#정확도 분석\n",
    "#실루엣 스코어를 확인하기 위해서는 메트릭스 호출\n",
    "import sklearn.metrics as skm"
   ]
  },
  {
   "cell_type": "code",
   "execution_count": 16,
   "metadata": {},
   "outputs": [],
   "source": [
    "s_score=skm.silhouette_score(New_DF,Re)\n",
    "#원본데이터와 수행된 결과를 인자로 넘겨 확인"
   ]
  },
  {
   "cell_type": "code",
   "execution_count": 18,
   "metadata": {},
   "outputs": [
    {
     "name": "stdout",
     "output_type": "stream",
     "text": [
      "0.7489308948664358\n"
     ]
    }
   ],
   "source": [
    "print(s_score)\n",
    "#0.7489308948664358\n",
    "#75% 정확성을 가진다. "
   ]
  }
 ],
 "metadata": {
  "kernelspec": {
   "display_name": "Python 3.8.10 64-bit",
   "language": "python",
   "name": "python3"
  },
  "language_info": {
   "codemirror_mode": {
    "name": "ipython",
    "version": 3
   },
   "file_extension": ".py",
   "mimetype": "text/x-python",
   "name": "python",
   "nbconvert_exporter": "python",
   "pygments_lexer": "ipython3",
   "version": "3.8.10"
  },
  "orig_nbformat": 4,
  "vscode": {
   "interpreter": {
    "hash": "1fc257ea5faeedfc8f4cc290fec0a25852b160e5368d8e6c5b0521ae5a65aee5"
   }
  }
 },
 "nbformat": 4,
 "nbformat_minor": 2
}
